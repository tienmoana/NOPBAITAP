{
 "cells": [
  {
   "cell_type": "code",
   "execution_count": 19,
   "id": "565ff91c",
   "metadata": {},
   "outputs": [],
   "source": [
    "import turtle\n",
    "pen = turtle.Turtle()\n",
    "pen.pensize(5)\n",
    "pen.pencolor('blue')\n",
    "\n",
    "# mô tả phần variables\n",
    "facesize = 200\n",
    "eyesize = 30\n",
    "mouthsize = 100\n",
    "\n",
    "# 1 vẽ khuôn mặt\n",
    "pen.penup()\n",
    "pen.goto(0, -200)\n",
    "pen.pendown()\n",
    "pen.circle(facesize)\n",
    "\n",
    "# vẽ mắt trái\n",
    "\n",
    "pen.penup()\n",
    "pen.goto(-100, 70)\n",
    "pen.pendown()\n",
    "pen.fillcolor(\"black\")\n",
    "pen.begin_fill()\n",
    "pen.circle(eyesize)\n",
    "pen.end_fill()\n",
    "\n",
    "# vẽ mắt phải\n",
    "pen.penup()\n",
    "pen.goto(100, 70)\n",
    "pen.pendown()\n",
    "pen.fillcolor(\"black\")\n",
    "pen.begin_fill()\n",
    "pen.circle(eyesize)\n",
    "pen.end_fill()\n",
    "\n",
    "# vẽ miệng cười\n",
    "pen.penup()\n",
    "pen.goto(-100,-20)\n",
    "pen.pendown()\n",
    "pen.right(90)\n",
    "pen.circle(mouthsize, 180)\n",
    "\n",
    "turtle.done()"
   ]
  }
 ],
 "metadata": {
  "kernelspec": {
   "display_name": "Python 3 (ipykernel)",
   "language": "python",
   "name": "python3"
  },
  "language_info": {
   "codemirror_mode": {
    "name": "ipython",
    "version": 3
   },
   "file_extension": ".py",
   "mimetype": "text/x-python",
   "name": "python",
   "nbconvert_exporter": "python",
   "pygments_lexer": "ipython3",
   "version": "3.10.7"
  }
 },
 "nbformat": 4,
 "nbformat_minor": 5
}
