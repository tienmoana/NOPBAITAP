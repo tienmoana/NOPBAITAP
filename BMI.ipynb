{
 "cells": [
  {
   "cell_type": "code",
   "execution_count": null,
   "id": "15bab7d8",
   "metadata": {},
   "outputs": [],
   "source": [
    "chieu_cao = float(input(\"Nhập chiều cao: \"))\n",
    "can_nang = float(input(\"Nhập cân nặng: \"))\n",
    "BMI = can_nang / chieu_cao ** 2\n",
    "print(f\"{BMI} kg/m2\")\n",
    "if BMI < 16:\n",
    "    print(\"Gầy cấp độ III\")\n",
    "elif 16 <= BMI < 17:\n",
    "    print(\"Gầy cấp độ II\")\n",
    "elif 17 <= BMI < 18.5:\n",
    "    print(\"Gầy cấp độ I\")\n",
    "elif 18.5 <= BMI < 25:\n",
    "    print(\"Bình Thường\")\n",
    "elif 25 <= BMI < 30:\n",
    "    print(\"Thừa cân\")\n",
    "elif 30 <= BMI < 35:\n",
    "    print(\"Béo Phì cấp độ I\")\n",
    "elif 35 <= BMI < 40:\n",
    "    print(\"Béo phì cấp độ II\")\n",
    "else:\n",
    "    print(\"Bép phì cấp độ III\")"
   ]
  }
 ],
 "metadata": {
  "kernelspec": {
   "display_name": "Python 3 (ipykernel)",
   "language": "python",
   "name": "python3"
  },
  "language_info": {
   "codemirror_mode": {
    "name": "ipython",
    "version": 3
   },
   "file_extension": ".py",
   "mimetype": "text/x-python",
   "name": "python",
   "nbconvert_exporter": "python",
   "pygments_lexer": "ipython3",
   "version": "3.10.7"
  }
 },
 "nbformat": 4,
 "nbformat_minor": 5
}
