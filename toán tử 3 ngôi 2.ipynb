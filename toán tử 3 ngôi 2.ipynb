{
 "cells": [
  {
   "cell_type": "code",
   "execution_count": 1,
   "id": "8c243b10",
   "metadata": {},
   "outputs": [
    {
     "name": "stdout",
     "output_type": "stream",
     "text": [
      "Nhập vào số bất kì: 3.3\n",
      "3.3 không phảo số tự nhiên\n"
     ]
    }
   ],
   "source": [
    "# Sử dụng function: input() để nhập một số bất kì sau đó chuyển kiểu về float. Kiểm tra số nhập vào có chia hết cho 2 hay không?\n",
    "\n",
    "# Nếu chia hết cho 2: số chẵn\n",
    "# Nếu không chia hết cho 2 dư 1: số lẽ\n",
    "# Ngoài ra: không phải số tự nhiên.\n",
    "\n",
    "number = float(input(\"Nhập vào số bất kì: \"))\n",
    "if not number % 2:\n",
    "    print(f\"{number} là số chẵn\")\n",
    "elif number % 2 == 1:\n",
    "    print(f\"{number} là số lẻ\")\n",
    "else:\n",
    "    print(f\"{number} không phảo số tự nhiên\")"
   ]
  }
 ],
 "metadata": {
  "kernelspec": {
   "display_name": "Python 3 (ipykernel)",
   "language": "python",
   "name": "python3"
  },
  "language_info": {
   "codemirror_mode": {
    "name": "ipython",
    "version": 3
   },
   "file_extension": ".py",
   "mimetype": "text/x-python",
   "name": "python",
   "nbconvert_exporter": "python",
   "pygments_lexer": "ipython3",
   "version": "3.10.7"
  }
 },
 "nbformat": 4,
 "nbformat_minor": 5
}
