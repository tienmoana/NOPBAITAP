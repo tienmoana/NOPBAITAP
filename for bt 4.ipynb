{
 "cells": [
  {
   "cell_type": "code",
   "execution_count": 15,
   "id": "be5f5ffd",
   "metadata": {},
   "outputs": [
    {
     "name": "stdout",
     "output_type": "stream",
     "text": [
      "how much will you pay: 160\n",
      "your bill is 110.0$\n"
     ]
    }
   ],
   "source": [
    "# Viết chương trình hỏi người dùng đã chi bao nhiêu tiền tại cửa hàng.\n",
    "\n",
    "# Nếu họ chi ít hơn 75$, họ sẽ không được giảm giá.\n",
    "\n",
    "# Nếu họ chi 75$ trở lên, họ sẽ được giảm giá 15$.\n",
    "\n",
    "# Nếu người dùng chi từ 100$ trở lên, họ sẽ được giảm giá 25$.\n",
    "\n",
    "# Nếu người dùng chi từ 150$ trở lên, họ sẽ được giảm giá 50$.\n",
    "# Sau đó in ra tổng số tiền mà người dùng phải thanh toán.\n",
    "\n",
    "payment = float(input(\"how much will you pay: \"))\n",
    "if payment < 75:\n",
    "    print(f\"you will pay {payment}$\")\n",
    "elif 75 <= payment and payment < 100:\n",
    "    payment -= 15\n",
    "    print(f\"your bill is {payment}$\")\n",
    "elif payment >= 100 and payment < 150:\n",
    "    payment -= 25\n",
    "    print(f\"your bill is {payment}$\")\n",
    "elif payment >= 150:\n",
    "    payment -= 50\n",
    "    print(f\"your bill is {payment}$\")\n"
   ]
  }
 ],
 "metadata": {
  "kernelspec": {
   "display_name": "Python 3 (ipykernel)",
   "language": "python",
   "name": "python3"
  },
  "language_info": {
   "codemirror_mode": {
    "name": "ipython",
    "version": 3
   },
   "file_extension": ".py",
   "mimetype": "text/x-python",
   "name": "python",
   "nbconvert_exporter": "python",
   "pygments_lexer": "ipython3",
   "version": "3.10.7"
  }
 },
 "nbformat": 4,
 "nbformat_minor": 5
}
