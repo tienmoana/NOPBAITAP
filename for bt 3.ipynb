{
 "cells": [
  {
   "cell_type": "code",
   "execution_count": 1,
   "id": "0aec8ad5",
   "metadata": {},
   "outputs": [
    {
     "name": "stdout",
     "output_type": "stream",
     "text": [
      "Nhập số bất kì trong phạm vi từ 1 đến 7: 5\n",
      "Friday\n"
     ]
    }
   ],
   "source": [
    "# Viết chương trình yêu cầu người dùng nhập một số trong phạm vi từ 1 đến 7. Sau đó hãy in ra ngày tương ứng: \n",
    "\n",
    "# 1: Monday\n",
    "\n",
    "# 2: Tuesday\n",
    "\n",
    "# 3: Wednesday\n",
    "\n",
    "# 4: Thursday\n",
    "\n",
    "# 5: Friday\n",
    "\n",
    "# 6: Saturday\n",
    "\n",
    "# 7: Sunday\n",
    "\n",
    "# Nếu người dùng nhập số ngoài phạm vi từ 1 đến 7 thì hãy in ra “error, out of range”.\n",
    "\n",
    "number = int(input(\"Nhập số bất kì trong phạm vi từ 1 đến 7: \"))\n",
    "if number == 1:\n",
    "    print(\"Monday\")\n",
    "elif number == 2:\n",
    "    print(\"Tuesday\")\n",
    "elif number == 3:\n",
    "    print(\"Wednesday\")\n",
    "elif number == 4:\n",
    "    print(\"Thursday\")\n",
    "elif number == 5:\n",
    "    print(\"Friday\")\n",
    "elif number == 6:\n",
    "    print(\"Saturday\")\n",
    "else:\n",
    "    print(\"error, out of range\")\n",
    "    "
   ]
  }
 ],
 "metadata": {
  "kernelspec": {
   "display_name": "Python 3 (ipykernel)",
   "language": "python",
   "name": "python3"
  },
  "language_info": {
   "codemirror_mode": {
    "name": "ipython",
    "version": 3
   },
   "file_extension": ".py",
   "mimetype": "text/x-python",
   "name": "python",
   "nbconvert_exporter": "python",
   "pygments_lexer": "ipython3",
   "version": "3.10.7"
  }
 },
 "nbformat": 4,
 "nbformat_minor": 5
}
