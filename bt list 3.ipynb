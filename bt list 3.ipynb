{
 "cells": [
  {
   "cell_type": "code",
   "execution_count": 10,
   "id": "6aa76168",
   "metadata": {},
   "outputs": [
    {
     "name": "stdout",
     "output_type": "stream",
     "text": [
      "2 so lon nhat la: 20 va 8\n"
     ]
    }
   ],
   "source": [
    "list = [1, 3, 5, 3, -4, -1, 7, 8, 20]\n",
    "list.sort()\n",
    "\n",
    "max1 = list[-1]\n",
    "max2 = list[-2]\n",
    "print(f\"2 so lon nhat la: {max1} va {max2}\")"
   ]
  }
 ],
 "metadata": {
  "kernelspec": {
   "display_name": "Python 3 (ipykernel)",
   "language": "python",
   "name": "python3"
  },
  "language_info": {
   "codemirror_mode": {
    "name": "ipython",
    "version": 3
   },
   "file_extension": ".py",
   "mimetype": "text/x-python",
   "name": "python",
   "nbconvert_exporter": "python",
   "pygments_lexer": "ipython3",
   "version": "3.10.7"
  }
 },
 "nbformat": 4,
 "nbformat_minor": 5
}
